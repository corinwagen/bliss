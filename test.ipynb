{
 "cells": [
  {
   "cell_type": "code",
   "execution_count": 1,
   "id": "c512ae81",
   "metadata": {},
   "outputs": [],
   "source": [
    "import bliss\n",
    "import numpy as np"
   ]
  },
  {
   "cell_type": "code",
   "execution_count": 2,
   "id": "f3de65c2",
   "metadata": {},
   "outputs": [],
   "source": [
    "cold_reading = bliss.SpeechEvent(\n",
    "    name=\"ColdReading\",\n",
    "    students_list=[\"Fabio\", \"Wilhelmina\", \"Brianna\", \"Vincent\"],\n",
    "    ballot_template=\"cold_reading_master_ballot.docx\",\n",
    "    posting_template=\"cold_reading_posting.docx\",\n",
    ")"
   ]
  },
  {
   "cell_type": "code",
   "execution_count": 3,
   "id": "b6159fc8",
   "metadata": {},
   "outputs": [
    {
     "data": {
      "text/plain": [
       "Round 1(2 rooms, 4 students, breaks incomplete, 0/2 ballots)"
      ]
     },
     "execution_count": 3,
     "metadata": {},
     "output_type": "execute_result"
    }
   ],
   "source": [
    "round1 = cold_reading.add_round(\"1\", rooms=[\"201\", \"202\"])\n",
    "round1"
   ]
  },
  {
   "cell_type": "code",
   "execution_count": 4,
   "id": "2642e36e",
   "metadata": {},
   "outputs": [
    {
     "name": "stdout",
     "output_type": "stream",
     "text": [
      "Round broken!\n",
      "Already file at write/ColdReading_Round1_Room0_Ballot1.docx !\n"
     ]
    },
    {
     "data": {
      "text/plain": [
       "Round 1(2 rooms, 4 students, breaks complete, 0/2 ballots)"
      ]
     },
     "execution_count": 4,
     "metadata": {},
     "output_type": "execute_result"
    }
   ],
   "source": [
    "round1.do_break()\n",
    "round1.gen_postings()\n",
    "round1.gen_ballots()\n",
    "round1"
   ]
  },
  {
   "cell_type": "code",
   "execution_count": 5,
   "id": "2ab0d5c7",
   "metadata": {},
   "outputs": [
    {
     "data": {
      "text/plain": [
       "Round 1(2 rooms, 4 students, breaks complete, 1/2 ballots)"
      ]
     },
     "execution_count": 5,
     "metadata": {},
     "output_type": "execute_result"
    }
   ],
   "source": [
    "round1.add_ballot(\"ballots/cr_rd1_rm0_1.yaml\")\n",
    "round1"
   ]
  },
  {
   "cell_type": "code",
   "execution_count": 6,
   "id": "b8e11cbb",
   "metadata": {},
   "outputs": [
    {
     "data": {
      "text/plain": [
       "(array([1. , 0. , 0. , 0.5]), array([1., 0., 0., 1.]))"
      ]
     },
     "execution_count": 6,
     "metadata": {},
     "output_type": "execute_result"
    }
   ],
   "source": [
    "cold_reading.rankings()"
   ]
  },
  {
   "cell_type": "code",
   "execution_count": 7,
   "id": "ba3d5864",
   "metadata": {},
   "outputs": [
    {
     "data": {
      "text/plain": [
       "Round 1(2 rooms, 4 students, breaks complete, 2/2 ballots)"
      ]
     },
     "execution_count": 7,
     "metadata": {},
     "output_type": "execute_result"
    }
   ],
   "source": [
    "round1.add_ballot(\"ballots/cr_rd1_rm1_1.yaml\")\n",
    "round1"
   ]
  },
  {
   "cell_type": "code",
   "execution_count": 8,
   "id": "90084176",
   "metadata": {},
   "outputs": [
    {
     "data": {
      "text/plain": [
       "(array([1. , 0.5, 1. , 0.5]), array([1., 1., 1., 1.]))"
      ]
     },
     "execution_count": 8,
     "metadata": {},
     "output_type": "execute_result"
    }
   ],
   "source": [
    "cold_reading.rankings()"
   ]
  },
  {
   "cell_type": "code",
   "execution_count": 9,
   "id": "efd3d419",
   "metadata": {},
   "outputs": [
    {
     "data": {
      "text/plain": [
       "Round 2(2 rooms, 4 students, breaks incomplete, 0/2 ballots)"
      ]
     },
     "execution_count": 9,
     "metadata": {},
     "output_type": "execute_result"
    }
   ],
   "source": [
    "round2 = cold_reading.add_round(\"2\", rooms=[\"201\", \"202\"])\n",
    "round2"
   ]
  },
  {
   "cell_type": "code",
   "execution_count": 10,
   "id": "cea80496",
   "metadata": {},
   "outputs": [
    {
     "data": {
      "text/plain": [
       "Round 2(2 rooms, 4 students, breaks incomplete, 2/2 ballots)"
      ]
     },
     "execution_count": 10,
     "metadata": {},
     "output_type": "execute_result"
    }
   ],
   "source": [
    "round2.add_ballot(\"ballots/cr_rd1_rm0_1.yaml\")\n",
    "round2.add_ballot(\"ballots/cr_rd1_rm1_1.yaml\")\n",
    "round2"
   ]
  },
  {
   "cell_type": "code",
   "execution_count": 11,
   "id": "971b551e",
   "metadata": {},
   "outputs": [
    {
     "name": "stdout",
     "output_type": "stream",
     "text": [
      "Brianna         \t2.0\t2\n",
      "Fabio           \t2.0\t2\n",
      "Vincent         \t1.0\t2\n",
      "Wilhelmina      \t1.0\t2\n"
     ]
    }
   ],
   "source": [
    "cold_reading.print_rankings()"
   ]
  },
  {
   "cell_type": "code",
   "execution_count": 12,
   "id": "8f138540",
   "metadata": {},
   "outputs": [
    {
     "data": {
      "text/plain": [
       "Round Finals(1 rooms, 2 students, breaks incomplete, 0/1 ballots)"
      ]
     },
     "execution_count": 12,
     "metadata": {},
     "output_type": "execute_result"
    }
   ],
   "source": [
    "finals = cold_reading.add_round(\"Finals\", rooms=[201], students=cold_reading.top_students(2))\n",
    "finals"
   ]
  }
 ],
 "metadata": {
  "kernelspec": {
   "display_name": "Python 3 (ipykernel)",
   "language": "python",
   "name": "python3"
  },
  "language_info": {
   "codemirror_mode": {
    "name": "ipython",
    "version": 3
   },
   "file_extension": ".py",
   "mimetype": "text/x-python",
   "name": "python",
   "nbconvert_exporter": "python",
   "pygments_lexer": "ipython3",
   "version": "3.9.9"
  }
 },
 "nbformat": 4,
 "nbformat_minor": 5
}
