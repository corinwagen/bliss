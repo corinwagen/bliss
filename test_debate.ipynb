{
 "cells": [
  {
   "cell_type": "code",
   "execution_count": 1,
   "id": "4e916c42",
   "metadata": {},
   "outputs": [],
   "source": [
    "import bliss"
   ]
  },
  {
   "cell_type": "code",
   "execution_count": 2,
   "id": "d6f71df4",
   "metadata": {},
   "outputs": [
    {
     "name": "stdout",
     "output_type": "stream",
     "text": [
      "[wagen-wagen, smith-jones]\n"
     ]
    }
   ],
   "source": [
    "team1 = bliss.Team(name=\"wagen-wagen\", students=[\"ari\", \"corin\"])\n",
    "team2 = bliss.Team(name=\"smith-jones\", students=[\"melanie\", \"bob\"])\n",
    "\n",
    "pd = bliss.DebateEvent(\n",
    "    name=\"PanelDebate\",\n",
    "    teams=[team1, team2],\n",
    "    ballot_template=\"spring2023/master/panel_debate_master_ballot.docx\",\n",
    "    posting_template=\"spring2023/master/panel_debate_posting.docx\"\n",
    ")\n",
    "\n",
    "print(pd.teams)"
   ]
  },
  {
   "cell_type": "code",
   "execution_count": 3,
   "id": "5d20cc53",
   "metadata": {},
   "outputs": [
    {
     "data": {
      "text/plain": [
       "DebateRound 1(1 rooms, 2 teams, breaks incomplete, 0/1 ballots)"
      ]
     },
     "execution_count": 3,
     "metadata": {},
     "output_type": "execute_result"
    }
   ],
   "source": [
    "round1 = pd.add_round(\"1\", rooms=[\"201\"], judges_per_room=1)\n",
    "round1"
   ]
  },
  {
   "cell_type": "code",
   "execution_count": 4,
   "id": "0642375f",
   "metadata": {},
   "outputs": [
    {
     "name": "stdout",
     "output_type": "stream",
     "text": [
      "Round broken!\n"
     ]
    },
    {
     "data": {
      "text/plain": [
       "DebateRound 1(1 rooms, 2 teams, breaks complete, 0/1 ballots)"
      ]
     },
     "execution_count": 4,
     "metadata": {},
     "output_type": "execute_result"
    }
   ],
   "source": [
    "round1.do_break()\n",
    "round1"
   ]
  },
  {
   "cell_type": "code",
   "execution_count": 5,
   "id": "3b1819f0",
   "metadata": {},
   "outputs": [
    {
     "name": "stdout",
     "output_type": "stream",
     "text": [
      "Already file at write/PanelDebate_Round1_Postings.docx !\n",
      "Already file at write/PanelDebate_Round1_Room0_Ballot1.docx !\n"
     ]
    }
   ],
   "source": [
    "round1.gen_postings()\n",
    "round1.gen_ballots()"
   ]
  },
  {
   "cell_type": "code",
   "execution_count": 6,
   "id": "6d3a0443",
   "metadata": {},
   "outputs": [
    {
     "data": {
      "text/plain": [
       "DebateRound 1(1 rooms, 2 teams, breaks complete, 1/1 ballots)"
      ]
     },
     "execution_count": 6,
     "metadata": {},
     "output_type": "execute_result"
    }
   ],
   "source": [
    "round1.add_ballot(\"ballots/pd_rd1_rm1.yaml\")\n",
    "round1"
   ]
  },
  {
   "cell_type": "code",
   "execution_count": 7,
   "id": "bacb3904",
   "metadata": {},
   "outputs": [
    {
     "name": "stdout",
     "output_type": "stream",
     "text": [
      "smith-jones     \t1.0\t1\n",
      "wagen-wagen     \t0.0\t1\n",
      "\n",
      "\n",
      "melanie         \t8.0\n",
      "bob             \t7.0\n",
      "corin           \t6.0\n",
      "ari             \t5.0\n"
     ]
    }
   ],
   "source": [
    "pd.print_rankings()"
   ]
  },
  {
   "cell_type": "code",
   "execution_count": 9,
   "id": "8d7d281e",
   "metadata": {},
   "outputs": [
    {
     "name": "stdout",
     "output_type": "stream",
     "text": [
      "Round broken!\n"
     ]
    },
    {
     "data": {
      "text/plain": [
       "DebateRound 2(1 rooms, 2 teams, breaks complete, 0/1 ballots)"
      ]
     },
     "execution_count": 9,
     "metadata": {},
     "output_type": "execute_result"
    }
   ],
   "source": [
    "round2 = pd.add_round(\"2\", rooms=[\"201\"], judges_per_room=1)\n",
    "round2.do_break(pairings=[(0,1)])\n",
    "round2"
   ]
  }
 ],
 "metadata": {
  "kernelspec": {
   "display_name": "Python 3 (ipykernel)",
   "language": "python",
   "name": "python3"
  },
  "language_info": {
   "codemirror_mode": {
    "name": "ipython",
    "version": 3
   },
   "file_extension": ".py",
   "mimetype": "text/x-python",
   "name": "python",
   "nbconvert_exporter": "python",
   "pygments_lexer": "ipython3",
   "version": "3.9.9"
  }
 },
 "nbformat": 4,
 "nbformat_minor": 5
}
